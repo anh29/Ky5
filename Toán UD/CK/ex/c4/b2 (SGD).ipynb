{
 "cells": [
  {
   "cell_type": "code",
   "execution_count": 2,
   "metadata": {},
   "outputs": [
    {
     "name": "stdout",
     "output_type": "stream",
     "text": [
      "Trọng số w: [1.68795287 3.41386843]\n"
     ]
    }
   ],
   "source": [
    "import numpy as np\n",
    "def mse_loss(y_true, y_pred):\n",
    "    return np.mean((y_true - y_pred)**2)\n",
    "def stochastic_gradient_descent(X, y, learning_rate=0.01, n_epochs=100):\n",
    "    n_samples, n_features = X.shape\n",
    "    w = np.zeros(n_features)  # Khởi tạo trọng số ban đầu\n",
    "    losses = []  # Lưu lại các giá trị của hàm loss trong quá trình tìm nghiệm\n",
    "    for epoch in range(n_epochs):\n",
    "        loss_epoch = 0\n",
    "        for i in range(n_samples):\n",
    "            # Chọn ngẫu nhiên một mẫu từ tập dữ liệu\n",
    "            index = np.random.randint(n_samples)\n",
    "            x = X[index]\n",
    "            y_true = y[index]\n",
    "            # Tính đạo hàm của hàm loss đối với mẫu đó\n",
    "            y_pred = np.dot(w, x)\n",
    "            gradient = -2 * np.dot(x, y_true - y_pred)\n",
    "            # Cập nhật trọng số w\n",
    "            w -= learning_rate * gradient\n",
    "            # Cập nhật giá trị của loss trong epoch hiện tại\n",
    "            loss_epoch += mse_loss(y_true, y_pred)\n",
    "\n",
    "        # Lưu lại giá trị loss trong epoch hiện tại\n",
    "        losses.append(loss_epoch / n_samples)\n",
    "    return w, losses\n",
    "# Tạo dữ liệu mô phỏng\n",
    "X = np.random.rand(100, 2)\n",
    "y = np.dot(X, np.array([2, 3])) + np.random.randn(100)\n",
    "# Thực hiện tìm nghiệm bằng Stochastic Gradient Descent\n",
    "w, losses = stochastic_gradient_descent(X, y)\n",
    "print('Trọng số w:', w)"
   ]
  }
 ],
 "metadata": {
  "kernelspec": {
   "display_name": "Python 3",
   "language": "python",
   "name": "python3"
  },
  "language_info": {
   "codemirror_mode": {
    "name": "ipython",
    "version": 3
   },
   "file_extension": ".py",
   "mimetype": "text/x-python",
   "name": "python",
   "nbconvert_exporter": "python",
   "pygments_lexer": "ipython3",
   "version": "3.11.4"
  }
 },
 "nbformat": 4,
 "nbformat_minor": 2
}
