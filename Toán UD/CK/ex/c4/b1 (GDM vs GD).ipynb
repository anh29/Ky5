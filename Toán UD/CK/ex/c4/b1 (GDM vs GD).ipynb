{
 "cells": [
  {
   "cell_type": "code",
   "execution_count": 2,
   "metadata": {},
   "outputs": [
    {
     "name": "stdout",
     "output_type": "stream",
     "text": [
      "GD_Solution x3 = 3.836788, cost = 8.315588, obtained after 4 iterations\n",
      "Momentum_Solution x1 = -1.306440, cost = -7.945823, obtained after 999 iterations\n"
     ]
    }
   ],
   "source": [
    "import numpy as np\n",
    "import matplotlib.pyplot as plt\n",
    "def grad(x):\n",
    "    return 2*x+ 10*np.cos(x)\n",
    "\n",
    "def cost(x):\n",
    "    return x**2 + 10*np.sin(x)\n",
    "# check convergence\n",
    "def has_converged(theta_new, grad):\n",
    "    return np.linalg.norm(grad(theta_new))/len(theta_new) < 0.001\n",
    "\n",
    "def GD_momentum(theta_init, alpha=0.1, beta=0.9):\n",
    "    theta = [theta_init]\n",
    "    v_old = np.zeros_like(theta_init)\n",
    "    for it in range(1000):\n",
    "        v_new = beta*v_old + alpha*grad(theta[-1])\n",
    "        theta_new = theta[-1] - v_new\n",
    "        theta.append(theta_new)\n",
    "        v_old = v_new\n",
    "    return (theta,it)\n",
    "def myGD1(x0,alpha=0.1, gra = 1e-3, loop = 1000):\n",
    "    x = [x0]\n",
    "    for it in range(loop):\n",
    "        x_new = x[-1] - alpha*grad(x[-1])\n",
    "        if abs(grad(x_new)) < gra:\n",
    "            break\n",
    "        x.append(x_new)\n",
    "    return (x, it)\n",
    "\n",
    "(x3, it3) = myGD1(5,0.1)\n",
    "print('GD_Solution x3 = %f, cost = %f, obtained after %d iterations'%(x3[-1], cost(x3[-1]), it3))\n",
    "(x1, it1) = GD_momentum(5, 0.1, beta=0.9)\n",
    "print('Momentum_Solution x1 = %f, cost = %f, obtained after %d iterations'%(x1[-1], cost(x1[-1]), it1))"
   ]
  }
 ],
 "metadata": {
  "kernelspec": {
   "display_name": "Python 3",
   "language": "python",
   "name": "python3"
  },
  "language_info": {
   "codemirror_mode": {
    "name": "ipython",
    "version": 3
   },
   "file_extension": ".py",
   "mimetype": "text/x-python",
   "name": "python",
   "nbconvert_exporter": "python",
   "pygments_lexer": "ipython3",
   "version": "3.11.4"
  }
 },
 "nbformat": 4,
 "nbformat_minor": 2
}
